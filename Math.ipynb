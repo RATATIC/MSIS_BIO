{
 "cells": [
  {
   "cell_type": "code",
   "execution_count": 3,
   "id": "ec35cb7f",
   "metadata": {},
   "outputs": [
    {
     "data": {
      "image/png": "[encoded data removed]",
      "text/plain": [
       "<Figure size 432x288 with 1 Axes>"
      ]
     },
     "metadata": {
      "needs_background": "light"
     },
     "output_type": "display_data"
    }
   ],
   "source": [
    "import numpy as np\n",
    "import matplotlib.pyplot as plt\n",
    "\n",
    "def circle(N, x, y, r):\n",
    "    A = np.arange(- y + 1,N - y + 1)**2\n",
    "    B = np.arange(- x + 1,N - x + 1)**2\n",
    "    dists = np.sqrt(A[:,None] + B)\n",
    "    return (dists <= r).astype(int)\n",
    "\n",
    "\n",
    "N = 1000 # 10 meters\n",
    "amount = 10\n",
    "mmap = np.zeros((N, N))\n",
    "x_arr = np.random.normal(N/2, N/6, amount)\n",
    "y_arr = np.random.normal(N/2, N/6, amount)\n",
    "r_arr = np.random.normal(N/4, N/12, amount)\n",
    "masks = np.zeros((amount, N,N))\n",
    "for i, (x, y, r) in enumerate(zip(x_arr,y_arr,r_arr)):\n",
    "    masks[i] = circle(N, x, y, r)\n",
    "    mmap = mmap + masks[i]\n",
    "temp = np.where(mmap == np.max(mmap))\n",
    "device_coords = [np.mean(temp[1]), np.mean(temp[0])]\n",
    "device_vis = circle(N, device_coords[0], device_coords[1], N/100)\n",
    "mmap[device_vis.astype(bool)] = 0\n",
    "plt.imshow(mmap, cmap='inferno', interpolation='nearest')\n",
    "plt.axis('off')\n",
    "plt.show()"
   ]
  },
  {
   "cell_type": "code",
   "execution_count": 61,
   "id": "5b65388b",
   "metadata": {},
   "outputs": [
    {
     "name": "stdout",
     "output_type": "stream",
     "text": [
      "[[0 0 0 0 0 0 0 0 0 0 0 0 0 0 0 0 0 0 0 0]\n",
      " [0 0 0 0 0 0 0 0 0 0 0 0 0 0 0 0 0 0 0 0]\n",
      " [0 0 0 0 0 0 0 0 0 0 0 0 0 0 0 0 0 0 0 0]\n",
      " [0 0 0 0 0 0 0 0 0 0 0 0 0 0 0 0 0 0 0 0]\n",
      " [0 0 0 0 0 0 0 0 0 0 0 0 0 0 0 0 0 0 0 0]\n",
      " [0 0 0 0 0 0 0 0 0 0 0 0 0 0 0 0 0 0 0 0]\n",
      " [0 0 0 0 1 0 0 0 0 0 0 0 0 0 0 0 0 0 0 0]\n",
      " [0 0 1 1 1 1 1 0 0 0 0 0 0 0 0 0 0 0 0 0]\n",
      " [0 0 1 1 1 1 1 0 0 0 0 0 0 0 0 0 0 0 0 0]\n",
      " [0 1 1 1 1 1 1 1 0 0 0 0 0 0 0 0 0 0 0 0]\n",
      " [0 0 1 1 1 1 1 0 0 0 0 0 0 0 0 0 0 0 0 0]\n",
      " [0 0 1 1 1 1 1 0 0 0 0 0 0 0 0 0 0 0 0 0]\n",
      " [0 0 0 0 1 0 0 0 0 0 0 0 0 0 0 0 0 0 0 0]\n",
      " [0 0 0 0 0 0 0 0 0 0 0 0 0 0 0 0 0 0 0 0]\n",
      " [0 0 0 0 0 0 0 0 0 0 0 0 0 0 0 0 0 0 0 0]\n",
      " [0 0 0 0 0 0 0 0 0 0 0 0 0 0 0 0 0 0 0 0]\n",
      " [0 0 0 0 0 0 0 0 0 0 0 0 0 0 0 0 0 0 0 0]\n",
      " [0 0 0 0 0 0 0 0 0 0 0 0 0 0 0 0 0 0 0 0]\n",
      " [0 0 0 0 0 0 0 0 0 0 0 0 0 0 0 0 0 0 0 0]\n",
      " [0 0 0 0 0 0 0 0 0 0 0 0 0 0 0 0 0 0 0 0]]\n"
     ]
    },
    {
     "data": {
      "image/png": "[encoded data removed]",
      "text/plain": [
       "<Figure size 432x288 with 1 Axes>"
      ]
     },
     "metadata": {
      "needs_background": "light"
     },
     "output_type": "display_data"
    }
   ],
   "source": [
    "import numpy as np\n",
    "import matplotlib.pyplot as plt\n",
    "N = 20\n",
    "x = 5\n",
    "y = 10\n",
    "r = 3\n",
    "A = np.arange(- y + 1,N - y + 1)**2\n",
    "B = np.arange(- x + 1,N - x + 1)**2\n",
    "dists = np.sqrt(A[:,None] + B)\n",
    "mask = (dists <= r).astype(int)\n",
    "print(mask)\n",
    "plt.imshow(mask, cmap='gist_gray', interpolation='nearest')\n",
    "plt.axis('off')\n",
    "plt.show()"
   ]
  },
  {
   "cell_type": "code",
   "execution_count": null,
   "id": "9b2fa683",
   "metadata": {},
   "outputs": [],
   "source": []
  }
 ],
 "metadata": {
  "kernelspec": {
   "display_name": "Python 3 (ipykernel)",
   "language": "python",
   "name": "python3"
  },
  "language_info": {
   "codemirror_mode": {
    "name": "ipython",
    "version": 3
   },
   "file_extension": ".py",
   "mimetype": "text/x-python",
   "name": "python",
   "nbconvert_exporter": "python",
   "pygments_lexer": "ipython3",
   "version": "3.9.12"
  }
 },
 "nbformat": 4,
 "nbformat_minor": 5
}
